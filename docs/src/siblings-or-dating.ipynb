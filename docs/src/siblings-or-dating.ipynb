{
 "cells": [
  {
   "cell_type": "code",
   "execution_count": null,
   "metadata": {},
   "outputs": [],
   "source": [
    "from pathlib import Path\n",
    "\n",
    "from mlogo.dataset import MLogoDataset\n",
    "\n",
    "dataset = MLogoDataset.from_directory(Path.cwd().parent.parent / 'data' / 'small')"
   ]
  },
  {
   "cell_type": "code",
   "execution_count": null,
   "metadata": {},
   "outputs": [],
   "source": [
    "import torch\n",
    "\n",
    "from mlogo.configuration import Configuration\n",
    "\n",
    "configuration = Configuration(\n",
    "    dataset=dataset,\n",
    "    batch_size=4,\n",
    "    shuffle=True,\n",
    "    number_of_workers=1,\n",
    "    learning_rate=0.001,\n",
    "    iterations=100,\n",
    "    device=torch.device(\"cpu\"),  # torch.device(\"cuda:0\" if torch.cuda.is_available() else \"cpu\")\n",
    ")"
   ]
  },
  {
   "cell_type": "code",
   "execution_count": null,
   "metadata": {},
   "outputs": [],
   "source": [
    "from mlogo.training_manager import TrainingManager\n",
    "\n",
    "manager = TrainingManager(configuration)"
   ]
  },
  {
   "cell_type": "code",
   "execution_count": null,
   "metadata": {},
   "outputs": [],
   "source": [
    "manager()"
   ]
  }
 ],
 "metadata": {
  "kernelspec": {
   "display_name": "",
   "language": "python",
   "name": ""
  },
  "language_info": {
   "codemirror_mode": {
    "name": "ipython",
    "version": 3
   },
   "file_extension": ".py",
   "mimetype": "text/x-python",
   "name": "python",
   "nbconvert_exporter": "python",
   "pygments_lexer": "ipython3",
   "version": "3.8.9"
  },
  "orig_nbformat": 4,
  "vscode": {
   "interpreter": {
    "hash": "8726384741f4775b50739c38bf977ba516e61f4398a5d355a0a573fdbee2b138"
   }
  }
 },
 "nbformat": 4,
 "nbformat_minor": 2
}
